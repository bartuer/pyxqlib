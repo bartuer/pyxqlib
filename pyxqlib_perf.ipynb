{
 "cells": [
  {
   "cell_type": "markdown",
   "metadata": {
    "slideshow": {
     "slide_type": "slide"
    }
   },
   "source": [
    "###  Performance improvement work sharing\n",
    "\n",
    "- Data\n",
    "- Demo\n",
    "- API \n",
    "- Time series data index\n",
    "- Vectorized concept\n",
    "- Laws & Disruptive move"
   ]
  },
  {
   "cell_type": "code",
   "execution_count": 16,
   "metadata": {
    "slideshow": {
     "slide_type": "skip"
    }
   },
   "outputs": [],
   "source": [
    "import pandas as pd"
   ]
  },
  {
   "cell_type": "code",
   "execution_count": 18,
   "metadata": {
    "slideshow": {
     "slide_type": "slide"
    }
   },
   "outputs": [
    {
     "data": {
      "text/html": [
       "<div>\n",
       "<style scoped>\n",
       "    .dataframe tbody tr th:only-of-type {\n",
       "        vertical-align: middle;\n",
       "    }\n",
       "\n",
       "    .dataframe tbody tr th {\n",
       "        vertical-align: top;\n",
       "    }\n",
       "\n",
       "    .dataframe thead th {\n",
       "        text-align: right;\n",
       "    }\n",
       "</style>\n",
       "<table border=\"1\" class=\"dataframe\">\n",
       "  <thead>\n",
       "    <tr style=\"text-align: right;\">\n",
       "      <th></th>\n",
       "      <th></th>\n",
       "      <th>$close</th>\n",
       "      <th>$factor</th>\n",
       "      <th>$change</th>\n",
       "      <th>$volume</th>\n",
       "      <th>limit_buy</th>\n",
       "      <th>limit_sell</th>\n",
       "    </tr>\n",
       "    <tr>\n",
       "      <th>instrument</th>\n",
       "      <th>datetime</th>\n",
       "      <th></th>\n",
       "      <th></th>\n",
       "      <th></th>\n",
       "      <th></th>\n",
       "      <th></th>\n",
       "      <th></th>\n",
       "    </tr>\n",
       "  </thead>\n",
       "  <tbody>\n",
       "    <tr>\n",
       "      <th rowspan=\"5\" valign=\"top\">SH600000</th>\n",
       "      <th>2020-01-02 09:30:00</th>\n",
       "      <td>159.046677</td>\n",
       "      <td>12.713563</td>\n",
       "      <td>NaN</td>\n",
       "      <td>177660.500000</td>\n",
       "      <td>False</td>\n",
       "      <td>False</td>\n",
       "    </tr>\n",
       "    <tr>\n",
       "      <th>2020-01-02 09:31:00</th>\n",
       "      <td>158.792404</td>\n",
       "      <td>12.713563</td>\n",
       "      <td>NaN</td>\n",
       "      <td>68880.687500</td>\n",
       "      <td>False</td>\n",
       "      <td>False</td>\n",
       "    </tr>\n",
       "    <tr>\n",
       "      <th>2020-01-02 09:32:00</th>\n",
       "      <td>159.046677</td>\n",
       "      <td>12.713563</td>\n",
       "      <td>NaN</td>\n",
       "      <td>79577.617188</td>\n",
       "      <td>False</td>\n",
       "      <td>False</td>\n",
       "    </tr>\n",
       "    <tr>\n",
       "      <th>2020-01-02 09:33:00</th>\n",
       "      <td>159.809494</td>\n",
       "      <td>12.713563</td>\n",
       "      <td>NaN</td>\n",
       "      <td>165822.281250</td>\n",
       "      <td>False</td>\n",
       "      <td>False</td>\n",
       "    </tr>\n",
       "    <tr>\n",
       "      <th>2020-01-02 09:34:00</th>\n",
       "      <td>159.428085</td>\n",
       "      <td>12.713563</td>\n",
       "      <td>NaN</td>\n",
       "      <td>45314.441406</td>\n",
       "      <td>False</td>\n",
       "      <td>False</td>\n",
       "    </tr>\n",
       "    <tr>\n",
       "      <th>...</th>\n",
       "      <th>...</th>\n",
       "      <td>...</td>\n",
       "      <td>...</td>\n",
       "      <td>...</td>\n",
       "      <td>...</td>\n",
       "      <td>...</td>\n",
       "      <td>...</td>\n",
       "    </tr>\n",
       "    <tr>\n",
       "      <th rowspan=\"5\" valign=\"top\">SH600009</th>\n",
       "      <th>2020-06-30 14:55:00</th>\n",
       "      <td>219.139130</td>\n",
       "      <td>3.040221</td>\n",
       "      <td>NaN</td>\n",
       "      <td>28780.802734</td>\n",
       "      <td>False</td>\n",
       "      <td>False</td>\n",
       "    </tr>\n",
       "    <tr>\n",
       "      <th>2020-06-30 14:56:00</th>\n",
       "      <td>219.139130</td>\n",
       "      <td>3.040221</td>\n",
       "      <td>NaN</td>\n",
       "      <td>15558.079102</td>\n",
       "      <td>False</td>\n",
       "      <td>False</td>\n",
       "    </tr>\n",
       "    <tr>\n",
       "      <th>2020-06-30 14:57:00</th>\n",
       "      <td>219.139130</td>\n",
       "      <td>3.040221</td>\n",
       "      <td>NaN</td>\n",
       "      <td>230.246414</td>\n",
       "      <td>False</td>\n",
       "      <td>False</td>\n",
       "    </tr>\n",
       "    <tr>\n",
       "      <th>2020-06-30 14:58:00</th>\n",
       "      <td>219.139130</td>\n",
       "      <td>3.040221</td>\n",
       "      <td>NaN</td>\n",
       "      <td>0.000000</td>\n",
       "      <td>False</td>\n",
       "      <td>False</td>\n",
       "    </tr>\n",
       "    <tr>\n",
       "      <th>2020-06-30 14:59:00</th>\n",
       "      <td>219.108734</td>\n",
       "      <td>3.040221</td>\n",
       "      <td>NaN</td>\n",
       "      <td>22465.472656</td>\n",
       "      <td>False</td>\n",
       "      <td>False</td>\n",
       "    </tr>\n",
       "  </tbody>\n",
       "</table>\n",
       "<p>163500 rows × 6 columns</p>\n",
       "</div>"
      ],
      "text/plain": [
       "                                    $close    $factor  $change        $volume  \\\n",
       "instrument datetime                                                             \n",
       "SH600000   2020-01-02 09:30:00  159.046677  12.713563      NaN  177660.500000   \n",
       "           2020-01-02 09:31:00  158.792404  12.713563      NaN   68880.687500   \n",
       "           2020-01-02 09:32:00  159.046677  12.713563      NaN   79577.617188   \n",
       "           2020-01-02 09:33:00  159.809494  12.713563      NaN  165822.281250   \n",
       "           2020-01-02 09:34:00  159.428085  12.713563      NaN   45314.441406   \n",
       "...                                    ...        ...      ...            ...   \n",
       "SH600009   2020-06-30 14:55:00  219.139130   3.040221      NaN   28780.802734   \n",
       "           2020-06-30 14:56:00  219.139130   3.040221      NaN   15558.079102   \n",
       "           2020-06-30 14:57:00  219.139130   3.040221      NaN     230.246414   \n",
       "           2020-06-30 14:58:00  219.139130   3.040221      NaN       0.000000   \n",
       "           2020-06-30 14:59:00  219.108734   3.040221      NaN   22465.472656   \n",
       "\n",
       "                                limit_buy  limit_sell  \n",
       "instrument datetime                                    \n",
       "SH600000   2020-01-02 09:30:00      False       False  \n",
       "           2020-01-02 09:31:00      False       False  \n",
       "           2020-01-02 09:32:00      False       False  \n",
       "           2020-01-02 09:33:00      False       False  \n",
       "           2020-01-02 09:34:00      False       False  \n",
       "...                                   ...         ...  \n",
       "SH600009   2020-06-30 14:55:00      False       False  \n",
       "           2020-06-30 14:56:00      False       False  \n",
       "           2020-06-30 14:57:00      False       False  \n",
       "           2020-06-30 14:58:00      False       False  \n",
       "           2020-06-30 14:59:00      False       False  \n",
       "\n",
       "[163500 rows x 6 columns]"
      ]
     },
     "execution_count": 18,
     "metadata": {},
     "output_type": "execute_result"
    }
   ],
   "source": [
    "all = pd.read_pickle(f\"data/quote_df.pkl\")\n",
    "all"
   ]
  },
  {
   "cell_type": "code",
   "execution_count": 24,
   "metadata": {
    "slideshow": {
     "slide_type": "slide"
    }
   },
   "outputs": [
    {
     "data": {
      "text/html": [
       "<div>\n",
       "<style scoped>\n",
       "    .dataframe tbody tr th:only-of-type {\n",
       "        vertical-align: middle;\n",
       "    }\n",
       "\n",
       "    .dataframe tbody tr th {\n",
       "        vertical-align: top;\n",
       "    }\n",
       "\n",
       "    .dataframe thead th {\n",
       "        text-align: right;\n",
       "    }\n",
       "</style>\n",
       "<table border=\"1\" class=\"dataframe\">\n",
       "  <thead>\n",
       "    <tr style=\"text-align: right;\">\n",
       "      <th>datetime</th>\n",
       "      <th>2020-01-02</th>\n",
       "      <th>2020-01-03</th>\n",
       "      <th>2020-01-06</th>\n",
       "      <th>2020-01-07</th>\n",
       "      <th>2020-01-08</th>\n",
       "      <th>2020-01-09</th>\n",
       "      <th>2020-01-10</th>\n",
       "      <th>2020-01-13</th>\n",
       "      <th>2020-01-14</th>\n",
       "      <th>2020-01-15</th>\n",
       "      <th>...</th>\n",
       "      <th>2020-06-15</th>\n",
       "      <th>2020-06-16</th>\n",
       "      <th>2020-06-17</th>\n",
       "      <th>2020-06-18</th>\n",
       "      <th>2020-06-19</th>\n",
       "      <th>2020-06-22</th>\n",
       "      <th>2020-06-23</th>\n",
       "      <th>2020-06-24</th>\n",
       "      <th>2020-06-29</th>\n",
       "      <th>2020-06-30</th>\n",
       "    </tr>\n",
       "    <tr>\n",
       "      <th>instrument</th>\n",
       "      <th></th>\n",
       "      <th></th>\n",
       "      <th></th>\n",
       "      <th></th>\n",
       "      <th></th>\n",
       "      <th></th>\n",
       "      <th></th>\n",
       "      <th></th>\n",
       "      <th></th>\n",
       "      <th></th>\n",
       "      <th></th>\n",
       "      <th></th>\n",
       "      <th></th>\n",
       "      <th></th>\n",
       "      <th></th>\n",
       "      <th></th>\n",
       "      <th></th>\n",
       "      <th></th>\n",
       "      <th></th>\n",
       "      <th></th>\n",
       "      <th></th>\n",
       "    </tr>\n",
       "  </thead>\n",
       "  <tbody>\n",
       "    <tr>\n",
       "      <th>SH600000</th>\n",
       "      <td>2.261874e+06</td>\n",
       "      <td>2.396091e+06</td>\n",
       "      <td>2508010.25</td>\n",
       "      <td>2514704.250</td>\n",
       "      <td>2.446962e+06</td>\n",
       "      <td>2.553695e+06</td>\n",
       "      <td>2651805.000</td>\n",
       "      <td>2672115.500</td>\n",
       "      <td>2.615353e+06</td>\n",
       "      <td>2.528383e+06</td>\n",
       "      <td>...</td>\n",
       "      <td>1756381.125</td>\n",
       "      <td>1731880.125</td>\n",
       "      <td>1.667069e+06</td>\n",
       "      <td>1578945.875</td>\n",
       "      <td>1604882.875</td>\n",
       "      <td>1753198.375</td>\n",
       "      <td>1803229.625</td>\n",
       "      <td>1821627.75</td>\n",
       "      <td>1870240.375</td>\n",
       "      <td>1891510.250</td>\n",
       "    </tr>\n",
       "    <tr>\n",
       "      <th>SH600004</th>\n",
       "      <td>3.928184e+06</td>\n",
       "      <td>4.189268e+06</td>\n",
       "      <td>4512067.00</td>\n",
       "      <td>5012114.500</td>\n",
       "      <td>5.196058e+06</td>\n",
       "      <td>5.564821e+06</td>\n",
       "      <td>5843007.000</td>\n",
       "      <td>6681968.000</td>\n",
       "      <td>7.288429e+06</td>\n",
       "      <td>7.365033e+06</td>\n",
       "      <td>...</td>\n",
       "      <td>6330651.000</td>\n",
       "      <td>6216309.500</td>\n",
       "      <td>5.872529e+06</td>\n",
       "      <td>5767695.500</td>\n",
       "      <td>5221974.000</td>\n",
       "      <td>5086450.500</td>\n",
       "      <td>5085257.500</td>\n",
       "      <td>5237319.50</td>\n",
       "      <td>5581185.500</td>\n",
       "      <td>5673297.500</td>\n",
       "    </tr>\n",
       "    <tr>\n",
       "      <th>SH600006</th>\n",
       "      <td>3.677090e+06</td>\n",
       "      <td>3.512993e+06</td>\n",
       "      <td>3473326.75</td>\n",
       "      <td>3209310.500</td>\n",
       "      <td>3.290266e+06</td>\n",
       "      <td>3.676561e+06</td>\n",
       "      <td>3735112.500</td>\n",
       "      <td>3675256.750</td>\n",
       "      <td>3.791545e+06</td>\n",
       "      <td>3.871834e+06</td>\n",
       "      <td>...</td>\n",
       "      <td>6607741.500</td>\n",
       "      <td>6620880.500</td>\n",
       "      <td>6.562849e+06</td>\n",
       "      <td>6070401.000</td>\n",
       "      <td>5108298.500</td>\n",
       "      <td>4345236.500</td>\n",
       "      <td>3919222.000</td>\n",
       "      <td>3732892.00</td>\n",
       "      <td>3667949.250</td>\n",
       "      <td>3350491.500</td>\n",
       "    </tr>\n",
       "    <tr>\n",
       "      <th>SH600007</th>\n",
       "      <td>7.471518e+05</td>\n",
       "      <td>7.798411e+05</td>\n",
       "      <td>798650.00</td>\n",
       "      <td>852837.875</td>\n",
       "      <td>9.240082e+05</td>\n",
       "      <td>9.653506e+05</td>\n",
       "      <td>947146.375</td>\n",
       "      <td>937367.125</td>\n",
       "      <td>9.143474e+05</td>\n",
       "      <td>8.438519e+05</td>\n",
       "      <td>...</td>\n",
       "      <td>1080689.000</td>\n",
       "      <td>1032232.000</td>\n",
       "      <td>9.300471e+05</td>\n",
       "      <td>980329.000</td>\n",
       "      <td>1049706.875</td>\n",
       "      <td>1437618.125</td>\n",
       "      <td>1737494.250</td>\n",
       "      <td>1769172.75</td>\n",
       "      <td>1774657.625</td>\n",
       "      <td>1789137.625</td>\n",
       "    </tr>\n",
       "    <tr>\n",
       "      <th>SH600008</th>\n",
       "      <td>2.073627e+06</td>\n",
       "      <td>2.103406e+06</td>\n",
       "      <td>2189824.50</td>\n",
       "      <td>2180529.250</td>\n",
       "      <td>2.460642e+06</td>\n",
       "      <td>2.583131e+06</td>\n",
       "      <td>2648017.500</td>\n",
       "      <td>2676629.250</td>\n",
       "      <td>2.665881e+06</td>\n",
       "      <td>2.987846e+06</td>\n",
       "      <td>...</td>\n",
       "      <td>2529171.750</td>\n",
       "      <td>2523233.250</td>\n",
       "      <td>2.580083e+06</td>\n",
       "      <td>2596339.250</td>\n",
       "      <td>2327328.000</td>\n",
       "      <td>2334081.250</td>\n",
       "      <td>2259043.000</td>\n",
       "      <td>2114092.25</td>\n",
       "      <td>2183888.750</td>\n",
       "      <td>2090832.000</td>\n",
       "    </tr>\n",
       "    <tr>\n",
       "      <th>SH600009</th>\n",
       "      <td>1.847804e+06</td>\n",
       "      <td>2.140634e+06</td>\n",
       "      <td>2256605.50</td>\n",
       "      <td>2628696.250</td>\n",
       "      <td>2.906225e+06</td>\n",
       "      <td>3.077406e+06</td>\n",
       "      <td>3336729.250</td>\n",
       "      <td>3664973.000</td>\n",
       "      <td>3.747686e+06</td>\n",
       "      <td>4.049192e+06</td>\n",
       "      <td>...</td>\n",
       "      <td>4232498.500</td>\n",
       "      <td>4341015.500</td>\n",
       "      <td>4.239846e+06</td>\n",
       "      <td>4442293.000</td>\n",
       "      <td>4316313.500</td>\n",
       "      <td>4186823.750</td>\n",
       "      <td>4079572.000</td>\n",
       "      <td>4018620.50</td>\n",
       "      <td>3944616.750</td>\n",
       "      <td>4157829.250</td>\n",
       "    </tr>\n",
       "  </tbody>\n",
       "</table>\n",
       "<p>6 rows × 117 columns</p>\n",
       "</div>"
      ],
      "text/plain": [
       "datetime      2020-01-02    2020-01-03  2020-01-06   2020-01-07    2020-01-08  \\\n",
       "instrument                                                                      \n",
       "SH600000    2.261874e+06  2.396091e+06  2508010.25  2514704.250  2.446962e+06   \n",
       "SH600004    3.928184e+06  4.189268e+06  4512067.00  5012114.500  5.196058e+06   \n",
       "SH600006    3.677090e+06  3.512993e+06  3473326.75  3209310.500  3.290266e+06   \n",
       "SH600007    7.471518e+05  7.798411e+05   798650.00   852837.875  9.240082e+05   \n",
       "SH600008    2.073627e+06  2.103406e+06  2189824.50  2180529.250  2.460642e+06   \n",
       "SH600009    1.847804e+06  2.140634e+06  2256605.50  2628696.250  2.906225e+06   \n",
       "\n",
       "datetime      2020-01-09   2020-01-10   2020-01-13    2020-01-14  \\\n",
       "instrument                                                         \n",
       "SH600000    2.553695e+06  2651805.000  2672115.500  2.615353e+06   \n",
       "SH600004    5.564821e+06  5843007.000  6681968.000  7.288429e+06   \n",
       "SH600006    3.676561e+06  3735112.500  3675256.750  3.791545e+06   \n",
       "SH600007    9.653506e+05   947146.375   937367.125  9.143474e+05   \n",
       "SH600008    2.583131e+06  2648017.500  2676629.250  2.665881e+06   \n",
       "SH600009    3.077406e+06  3336729.250  3664973.000  3.747686e+06   \n",
       "\n",
       "datetime      2020-01-15  ...   2020-06-15   2020-06-16    2020-06-17  \\\n",
       "instrument                ...                                           \n",
       "SH600000    2.528383e+06  ...  1756381.125  1731880.125  1.667069e+06   \n",
       "SH600004    7.365033e+06  ...  6330651.000  6216309.500  5.872529e+06   \n",
       "SH600006    3.871834e+06  ...  6607741.500  6620880.500  6.562849e+06   \n",
       "SH600007    8.438519e+05  ...  1080689.000  1032232.000  9.300471e+05   \n",
       "SH600008    2.987846e+06  ...  2529171.750  2523233.250  2.580083e+06   \n",
       "SH600009    4.049192e+06  ...  4232498.500  4341015.500  4.239846e+06   \n",
       "\n",
       "datetime     2020-06-18   2020-06-19   2020-06-22   2020-06-23  2020-06-24  \\\n",
       "instrument                                                                   \n",
       "SH600000    1578945.875  1604882.875  1753198.375  1803229.625  1821627.75   \n",
       "SH600004    5767695.500  5221974.000  5086450.500  5085257.500  5237319.50   \n",
       "SH600006    6070401.000  5108298.500  4345236.500  3919222.000  3732892.00   \n",
       "SH600007     980329.000  1049706.875  1437618.125  1737494.250  1769172.75   \n",
       "SH600008    2596339.250  2327328.000  2334081.250  2259043.000  2114092.25   \n",
       "SH600009    4442293.000  4316313.500  4186823.750  4079572.000  4018620.50   \n",
       "\n",
       "datetime     2020-06-29   2020-06-30  \n",
       "instrument                            \n",
       "SH600000    1870240.375  1891510.250  \n",
       "SH600004    5581185.500  5673297.500  \n",
       "SH600006    3667949.250  3350491.500  \n",
       "SH600007    1774657.625  1789137.625  \n",
       "SH600008    2183888.750  2090832.000  \n",
       "SH600009    3944616.750  4157829.250  \n",
       "\n",
       "[6 rows x 117 columns]"
      ]
     },
     "execution_count": 24,
     "metadata": {},
     "output_type": "execute_result"
    }
   ],
   "source": [
    "volume = pd.read_pickle(f\"data/volume_df.pkl\")\n",
    "volume"
   ]
  },
  {
   "cell_type": "markdown",
   "metadata": {
    "slideshow": {
     "slide_type": "slide"
    }
   },
   "source": [
    "### Running time from 1518.555s to 0.007s ⌨️"
   ]
  },
  {
   "cell_type": "markdown",
   "metadata": {
    "slideshow": {
     "slide_type": "slide"
    }
   },
   "source": [
    "### Speed up QLib backtesting about 200k times 🖥"
   ]
  },
  {
   "cell_type": "markdown",
   "metadata": {
    "slideshow": {
     "slide_type": "slide"
    }
   },
   "source": [
    "$$\n",
    "\\begin{equation}\n",
    "\\begin{aligned}\n",
    "\\begin{Bmatrix}\n",
    "\\mathrm{Q}_{\\mathcal{s,\\space \\cdots,\\space t}} \n",
    "\\\\\n",
    "\\mathrm{V}_{\\mathcal{s,\\space d}}\n",
    "\\rightarrow\\mathrm{V}_{\\mathcal{s,\\space t}}\n",
    "\\end{Bmatrix}\n",
    "&\\rightarrow\\mathrm{I}_{\\mathcal{s,\\space \\cdots,\\space t}}\n",
    "&:\\space&\\mathscr{F}_{\\mathcal{map}}\n",
    "\\\\\n",
    "\\frac{1}{n_{s}}\\cdot \\sum_{\\mathcal{s}}\\mathrm{I}_{\\mathcal{s,\\space \\cdots,\\space t}}\n",
    "&=\n",
    "\\mathrm{I}_{\\mathcal{\\cdots,\\space t}}\n",
    "&:\\space&\\mathscr{F}_{\\mathcal{reduce}}\n",
    "\\\\\n",
    "\\frac{1}{n_{t\\space\\in\\space d}}\\cdot\\sum_{\\mathcal{t\\space\\in\\space d}}\\mathrm{I}_{\\mathcal{\\cdots,\\space t}}\n",
    "&=\n",
    "\\mathrm{I}_{\\mathcal{\\cdots,\\space d}}\n",
    "&:\\space&\\mathscr{F}_{\\mathcal{reduce}}\n",
    "\\end{aligned}\n",
    "\\end{equation}\n",
    "$$"
   ]
  },
  {
   "cell_type": "code",
   "execution_count": 31,
   "metadata": {
    "slideshow": {
     "slide_type": "skip"
    }
   },
   "outputs": [],
   "source": [
    "import numpy as np\n",
    "from matplotlib import cm\n",
    "import ipyvolume as ipv\n",
    "\n",
    "k, b, e, s, l, m = (5, 0.1, 1.2, 0.2, 6, 9)\n",
    "ss = [np.repeat(np.arange(b, e, s), l * m)]\n",
    "[ss.append(ss[-1] - d) for d in [[(j - b)/k for j in ss[0]] for i in range(k)]]\n",
    "ss = np.stack(ss)\n",
    "c = np.tile(np.repeat(np.arange(b, e, s), m), l)\n",
    "t = np.broadcast_to(np.arange(b, s * m, s), (l, l, m)).reshape(l * l * m)\n",
    "fig1 = ipv.figure()\n",
    "xnorm = ss[0] - ss[0].min()\n",
    "xnorm /= xnorm.ptp()\n",
    "scatter = ipv.scatter(ss, c, t, color= cm.gist_rainbow(xnorm), marker=\"sphere\")\n",
    "scatter.connected = True\n",
    "ipv.xlim(b, e)\n",
    "ipv.animation_control(scatter, interval=256)"
   ]
  },
  {
   "cell_type": "code",
   "execution_count": 32,
   "metadata": {
    "scrolled": true,
    "slideshow": {
     "slide_type": "slide"
    }
   },
   "outputs": [
    {
     "data": {
      "application/vnd.jupyter.widget-view+json": {
       "model_id": "54aff81ae4e3480db1a4a0d2bb285075",
       "version_major": 2,
       "version_minor": 0
      },
      "text/plain": [
       "VBox(children=(Figure(animation=256.0, camera=PerspectiveCamera(fov=46.0, position=(-1.1133407984528387, 1.532…"
      ]
     },
     "metadata": {},
     "output_type": "display_data"
    }
   ],
   "source": [
    "ipv.view(300, 50, distance=2)\n",
    "ipv.show()"
   ]
  },
  {
   "cell_type": "code",
   "execution_count": 34,
   "metadata": {
    "slideshow": {
     "slide_type": "skip"
    }
   },
   "outputs": [],
   "source": [
    "import ipyvolume as ipv2\n",
    "tt=[]\n",
    "[tt.append(np.copy(t)) for i in range(3)]\n",
    "tt[1][0::3] = (t[2::3] - t[0::3]) / 2 + t[0::3]\n",
    "tt[1][1::3] = (t[2::3] - t[1::3]) / 2 + t[1::3]\n",
    "tt[2][0::3] = t[2::3]\n",
    "tt[2][1::3] = t[2::3]\n",
    "tt = np.stack(tt)\n",
    "s2 = ss[-1][0:54]\n",
    "c2 = c[0:54]\n",
    "t2 = tt[:,0:54]\n",
    "fig2 = ipv2.figure()\n",
    "znorm = t - t.min()\n",
    "znorm /= znorm.ptp()\n",
    "scatter2 = ipv2.scatter(s2, c2, t2, color=cm.gist_rainbow(znorm), marker=\"sphere\")\n",
    "scatter2.connected = True\n",
    "ipv2.xlim(b, e)\n",
    "ipv2.animation_control(scatter2, interval=300)"
   ]
  },
  {
   "cell_type": "code",
   "execution_count": 35,
   "metadata": {
    "slideshow": {
     "slide_type": "slide"
    }
   },
   "outputs": [
    {
     "data": {
      "application/vnd.jupyter.widget-view+json": {
       "model_id": "4637a8c5db244780b702b0c8648b44e7",
       "version_major": 2,
       "version_minor": 0
      },
      "text/plain": [
       "VBox(children=(Figure(animation=300.0, camera=PerspectiveCamera(fov=46.0, position=(-1.1133407984528387, 1.532…"
      ]
     },
     "metadata": {},
     "output_type": "display_data"
    }
   ],
   "source": [
    "ipv2.view(300, 50, distance=2)\n",
    "ipv2.show()"
   ]
  },
  {
   "cell_type": "markdown",
   "metadata": {
    "slideshow": {
     "slide_type": "slide"
    }
   },
   "source": [
    "### API  🧻\n",
    "\n",
    "- #### Tsidx\n",
    "- #### MustelasQuote"
   ]
  },
  {
   "cell_type": "markdown",
   "metadata": {
    "slideshow": {
     "slide_type": "slide"
    }
   },
   "source": [
    "## Time series data index\n",
    "\n",
    "- ### Continuous $\\rightarrow$ Scatter\n",
    "- ### How to do unit test 🖥\n",
    "- ### How to independently build"
   ]
  },
  {
   "cell_type": "markdown",
   "metadata": {
    "slideshow": {
     "slide_type": "slide"
    }
   },
   "source": [
    "## Vectorized concept 🖥\n",
    "\n",
    "- ### Why vectorize ?\n",
    "- ### NEP 38 🧻\n"
   ]
  },
  {
   "cell_type": "markdown",
   "metadata": {
    "slideshow": {
     "slide_type": "slide"
    }
   },
   "source": [
    "##  Readability\n",
    "\n",
    "- #### Message passing paradigm\n",
    "  - ##### IPC and RPC and multithreading ...\n",
    "- #### Generator and Coroutine ⌨️\n",
    "- #### All design patterns are instances talk each other⌨️\n",
    "- #### But a huge gap between 2 languages ⌨️"
   ]
  },
  {
   "cell_type": "markdown",
   "metadata": {
    "slideshow": {
     "slide_type": "slide"
    }
   },
   "source": [
    "## Nature Laws of performance\n",
    "\n",
    "- ### Good one is not a feature, but bad one is a bug ⌨️\n",
    "- ### Time and space consistency 🧻\n",
    "- ### Time and space symmetry 🖥"
   ]
  }
 ],
 "metadata": {
  "celltoolbar": "Slideshow",
  "kernelspec": {
   "display_name": "Python 3 (ipykernel)",
   "language": "python",
   "name": "python3"
  },
  "language_info": {
   "codemirror_mode": {
    "name": "ipython",
    "version": 3
   },
   "file_extension": ".py",
   "mimetype": "text/x-python",
   "name": "python",
   "nbconvert_exporter": "python",
   "pygments_lexer": "ipython3",
   "version": "3.7.10"
  },
  "nteract": {
   "version": "nteract-on-jupyter@1.2.3"
  }
 },
 "nbformat": 4,
 "nbformat_minor": 4
}
